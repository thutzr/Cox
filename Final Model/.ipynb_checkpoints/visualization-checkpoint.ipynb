{
 "cells": [
  {
   "cell_type": "code",
   "execution_count": 1,
   "metadata": {},
   "outputs": [],
   "source": [
    "import numpy as np\n",
    "import pandas as pd"
   ]
  },
  {
   "cell_type": "code",
   "execution_count": 2,
   "metadata": {},
   "outputs": [],
   "source": [
    "cox_cc_alg_1_rr_95 = np.loadtxt('./coxcc/output/interval_length_alg_1_10_cox_cc_rr_nl_nph_0.95.txt')\n",
    "cox_cc_alg_2_rr_95 = np.loadtxt('./coxcc/output/interval_length_alg_2_10_cox_cc_rr_nl_nph_0.95.txt')\n",
    "cox_cc_alg_1_s_95 = np.loadtxt('./coxcc/output/interval_length_alg_1_10_cox_cc_support_0.95.txt')\n",
    "cox_cc_alg_2_s_95 = np.loadtxt('./coxcc/output/interval_length_alg_2_10_cox_cc_support_0.95.txt')\n",
    "cox_cc_alg_1_m_95 = np.loadtxt('./coxcc/output/interval_length_alg_1_10_cox_cc_metabric_0.95.txt')\n",
    "cox_cc_alg_2_m_95 = np.loadtxt('./coxcc/output/interval_length_alg_2_10_cox_cc_metabric_0.95.txt')"
   ]
  },
  {
   "cell_type": "code",
   "execution_count": 3,
   "metadata": {},
   "outputs": [
    {
     "data": {
      "text/plain": [
       "(340.80237575725715, 2.982074929431884)"
      ]
     },
     "execution_count": 3,
     "metadata": {},
     "output_type": "execute_result"
    }
   ],
   "source": [
    "cox_cc_alg_2_m_95.mean(),cox_cc_alg_2_m_95.std()"
   ]
  },
  {
   "cell_type": "code",
   "execution_count": 4,
   "metadata": {},
   "outputs": [],
   "source": [
    "cox_ph_alg_1_rr_95 = np.loadtxt('./coxph/output/interval_length_alg_1_10_cox_ph_rr_nl_nph_0.95.txt')\n",
    "cox_ph_alg_2_rr_95 = np.loadtxt('./coxph/output/interval_length_alg_2_10_cox_ph_rr_nl_nph_0.95.txt')\n",
    "cox_ph_alg_1_s_95 = np.loadtxt('./coxph/output/interval_length_alg_1_10_cox_ph_support_0.95.txt')\n",
    "cox_ph_alg_2_s_95 = np.loadtxt('./coxph/output/interval_length_alg_2_10_cox_ph_support_0.95.txt')\n",
    "cox_ph_alg_1_m_95 = np.loadtxt('./coxph/output/interval_length_alg_1_10_cox_cc_metabric_0.95.txt')\n",
    "cox_ph_alg_2_m_95 = np.loadtxt('./coxph/output/interval_length_alg_2_10_cox_cc_metabric_0.95.txt')"
   ]
  },
  {
   "cell_type": "code",
   "execution_count": 5,
   "metadata": {},
   "outputs": [
    {
     "data": {
      "text/plain": [
       "(21.594653413250605, 0.9027207947748378)"
      ]
     },
     "execution_count": 5,
     "metadata": {},
     "output_type": "execute_result"
    }
   ],
   "source": [
    "cox_ph_alg_1_rr_95.mean(),cox_ph_alg_1_rr_95.std()"
   ]
  },
  {
   "cell_type": "code",
   "execution_count": 11,
   "metadata": {},
   "outputs": [],
   "source": [
    "vnla_cox_ph_rr_95 = np.loadtxt('./coxph/output/vanilla_coxph_interval_rr_n_nph_0.95_10.txt')\n",
    "vnla_cox_cc_rr_95 = np.loadtxt('./coxcc/output/vanilla_coxph_interval_rr_n_nph_0.95_10.txt')\n",
    "vnla_cox_ph_s_95 = np.loadtxt('./coxph/output/vanilla_coxph_interval_support_0.95_10.txt')\n",
    "vnla_cox_cc_s_95 = np.loadtxt('./coxcc/output/vanilla_coxph_interval_support_0.95_10.txt')\n",
    "vnla_cox_ph_m_95 = np.loadtxt('./coxph/output/vanilla_coxph_interval_metabric_0.95_10.txt')\n",
    "vnla_cox_cc_m_95 = np.loadtxt('./coxcc/output/vanilla_coxph_interval_metabric_0.95_10.txt')"
   ]
  },
  {
   "cell_type": "code",
   "execution_count": 17,
   "metadata": {},
   "outputs": [
    {
     "data": {
      "text/plain": [
       "(20.17116208856404, 0.2354907650024508)"
      ]
     },
     "execution_count": 17,
     "metadata": {},
     "output_type": "execute_result"
    }
   ],
   "source": [
    "vnla_cox_cc_rr_95.mean(),vnla_cox_cc_rr_95.std()"
   ]
  },
  {
   "cell_type": "code",
   "execution_count": 8,
   "metadata": {},
   "outputs": [],
   "source": [
    "cox_ph_uw_alg_1_rr_95 = np.loadtxt('./coxph/output/interval_length_alg_1_10_unweighted_cox_ph_rr_nl_nph_0.95.txt')\n",
    "cox_ph_uw_alg_2_rr_95 = np.loadtxt('./coxph/output/interval_length_alg_2_10_unweighted_cox_ph_rr_nl_nph_0.95.txt')\n",
    "cox_ph_uw_alg_1_s_95 = np.loadtxt('./coxph/output/interval_length_alg_1_10_unweighted_cox_ph_support_0.95.txt')\n",
    "cox_ph_uw_alg_2_s_95 = np.loadtxt('./coxph/output/interval_length_alg_2_10_unweighted_cox_ph_support_0.95.txt')\n",
    "cox_ph_uw_alg_1_m_95 = np.loadtxt('./coxph/output/interval_length_alg_1_10_unweighted_cox_ph_metabric_0.95.txt')\n",
    "cox_ph_uw_alg_2_m_95 = np.loadtxt('./coxph/output/interval_length_alg_2_10_unweighted_cox_ph_metabric_0.95.txt')"
   ]
  },
  {
   "cell_type": "code",
   "execution_count": 12,
   "metadata": {},
   "outputs": [
    {
     "data": {
      "text/plain": [
       "(261.18364942099254, 9.258234950871566)"
      ]
     },
     "execution_count": 12,
     "metadata": {},
     "output_type": "execute_result"
    }
   ],
   "source": [
    "cox_ph_uw_alg_2_m_95.mean(),cox_ph_uw_alg_2_m_95.std()"
   ]
  },
  {
   "cell_type": "code",
   "execution_count": 4,
   "metadata": {},
   "outputs": [],
   "source": [
    "cox_reg_rr_95 = np.loadtxt('./CoxReg/output/cox_reg_interval_rr_nl_nph_1000.95.txt')\n",
    "cox_reg_s_95 = np.loadtxt('./CoxReg/output/cox_reg_interval_support_1000.95.txt')\n",
    "cox_reg_m_95 = np.loadtxt('./CoxReg/output/cox_reg_interval_metabric_1000.95.txt')"
   ]
  },
  {
   "cell_type": "code",
   "execution_count": 7,
   "metadata": {},
   "outputs": [
    {
     "data": {
      "text/plain": [
       "(319.8385312335958, 2.7784033427815755)"
      ]
     },
     "execution_count": 7,
     "metadata": {},
     "output_type": "execute_result"
    }
   ],
   "source": [
    "cox_reg_m_95.mean(),cox_reg_m_95.std()"
   ]
  },
  {
   "cell_type": "code",
   "execution_count": 13,
   "metadata": {},
   "outputs": [],
   "source": [
    "data = pd.DataFrame({'Algorithm':[],'Dataset':[],'alpha':[],'Coverage':[],'Length':[]})"
   ]
  },
  {
   "cell_type": "code",
   "execution_count": 19,
   "metadata": {},
   "outputs": [
    {
     "ename": "OSError",
     "evalue": "~/Final Model/cox_ph/output/empirical_coverage_alg_1_10_cox_ph_rr_nl_nph_0.6.txt not found.",
     "output_type": "error",
     "traceback": [
      "\u001b[0;31m---------------------------------------------------------------------------\u001b[0m",
      "\u001b[0;31mOSError\u001b[0m                                   Traceback (most recent call last)",
      "\u001b[0;32m<ipython-input-19-92b1f0758635>\u001b[0m in \u001b[0;36m<module>\u001b[0;34m\u001b[0m\n\u001b[1;32m      9\u001b[0m                 \u001b[0mcover_path\u001b[0m \u001b[0;34m=\u001b[0m \u001b[0;34m'~/Final Model/'\u001b[0m\u001b[0;34m+\u001b[0m\u001b[0mba\u001b[0m\u001b[0;34m+\u001b[0m\u001b[0;34m'/output/'\u001b[0m\u001b[0;34m+\u001b[0m\u001b[0;34m'empirical_coverage_'\u001b[0m\u001b[0;34m+\u001b[0m\u001b[0ma\u001b[0m\u001b[0;34m+\u001b[0m\u001b[0;34m'10_'\u001b[0m\u001b[0;34m+\u001b[0m\u001b[0mba\u001b[0m\u001b[0;34m+\u001b[0m\u001b[0;34m'_'\u001b[0m\u001b[0;34m+\u001b[0m\u001b[0mds\u001b[0m\u001b[0;34m+\u001b[0m\u001b[0mstr\u001b[0m\u001b[0;34m(\u001b[0m\u001b[0malpha\u001b[0m\u001b[0;34m)\u001b[0m\u001b[0;34m+\u001b[0m\u001b[0;34m'.txt'\u001b[0m\u001b[0;34m\u001b[0m\u001b[0;34m\u001b[0m\u001b[0m\n\u001b[1;32m     10\u001b[0m                 \u001b[0minterval_path\u001b[0m \u001b[0;34m=\u001b[0m \u001b[0;34m'~/Final Model/'\u001b[0m\u001b[0;34m+\u001b[0m\u001b[0mba\u001b[0m\u001b[0;34m+\u001b[0m\u001b[0;34m'/output/'\u001b[0m\u001b[0;34m+\u001b[0m\u001b[0;34m'interval_length_'\u001b[0m\u001b[0;34m+\u001b[0m\u001b[0ma\u001b[0m\u001b[0;34m+\u001b[0m\u001b[0;34m'10_'\u001b[0m\u001b[0;34m+\u001b[0m\u001b[0mba\u001b[0m\u001b[0;34m+\u001b[0m\u001b[0;34m'_'\u001b[0m\u001b[0;34m+\u001b[0m\u001b[0mds\u001b[0m\u001b[0;34m+\u001b[0m\u001b[0mstr\u001b[0m\u001b[0;34m(\u001b[0m\u001b[0malpha\u001b[0m\u001b[0;34m)\u001b[0m\u001b[0;34m+\u001b[0m\u001b[0;34m'.txt'\u001b[0m\u001b[0;34m\u001b[0m\u001b[0;34m\u001b[0m\u001b[0m\n\u001b[0;32m---> 11\u001b[0;31m                 \u001b[0mcoverage\u001b[0m \u001b[0;34m=\u001b[0m \u001b[0mnp\u001b[0m\u001b[0;34m.\u001b[0m\u001b[0mloadtxt\u001b[0m\u001b[0;34m(\u001b[0m\u001b[0mcover_path\u001b[0m\u001b[0;34m)\u001b[0m\u001b[0;34m\u001b[0m\u001b[0;34m\u001b[0m\u001b[0m\n\u001b[0m\u001b[1;32m     12\u001b[0m                 \u001b[0minterval\u001b[0m \u001b[0;34m=\u001b[0m \u001b[0mnp\u001b[0m\u001b[0;34m.\u001b[0m\u001b[0mloadtxt\u001b[0m\u001b[0;34m(\u001b[0m\u001b[0minterval_path\u001b[0m\u001b[0;34m)\u001b[0m\u001b[0;34m\u001b[0m\u001b[0;34m\u001b[0m\u001b[0m\n\u001b[1;32m     13\u001b[0m                 temp = pd.DataFrame({'Algorithm':[ba+a]*len(coverage),\n",
      "\u001b[0;32m~/anaconda3/lib/python3.8/site-packages/numpy/lib/npyio.py\u001b[0m in \u001b[0;36mloadtxt\u001b[0;34m(fname, dtype, comments, delimiter, converters, skiprows, usecols, unpack, ndmin, encoding, max_rows)\u001b[0m\n\u001b[1;32m    959\u001b[0m             \u001b[0mfname\u001b[0m \u001b[0;34m=\u001b[0m \u001b[0mos_fspath\u001b[0m\u001b[0;34m(\u001b[0m\u001b[0mfname\u001b[0m\u001b[0;34m)\u001b[0m\u001b[0;34m\u001b[0m\u001b[0;34m\u001b[0m\u001b[0m\n\u001b[1;32m    960\u001b[0m         \u001b[0;32mif\u001b[0m \u001b[0m_is_string_like\u001b[0m\u001b[0;34m(\u001b[0m\u001b[0mfname\u001b[0m\u001b[0;34m)\u001b[0m\u001b[0;34m:\u001b[0m\u001b[0;34m\u001b[0m\u001b[0;34m\u001b[0m\u001b[0m\n\u001b[0;32m--> 961\u001b[0;31m             \u001b[0mfh\u001b[0m \u001b[0;34m=\u001b[0m \u001b[0mnp\u001b[0m\u001b[0;34m.\u001b[0m\u001b[0mlib\u001b[0m\u001b[0;34m.\u001b[0m\u001b[0m_datasource\u001b[0m\u001b[0;34m.\u001b[0m\u001b[0mopen\u001b[0m\u001b[0;34m(\u001b[0m\u001b[0mfname\u001b[0m\u001b[0;34m,\u001b[0m \u001b[0;34m'rt'\u001b[0m\u001b[0;34m,\u001b[0m \u001b[0mencoding\u001b[0m\u001b[0;34m=\u001b[0m\u001b[0mencoding\u001b[0m\u001b[0;34m)\u001b[0m\u001b[0;34m\u001b[0m\u001b[0;34m\u001b[0m\u001b[0m\n\u001b[0m\u001b[1;32m    962\u001b[0m             \u001b[0mfencoding\u001b[0m \u001b[0;34m=\u001b[0m \u001b[0mgetattr\u001b[0m\u001b[0;34m(\u001b[0m\u001b[0mfh\u001b[0m\u001b[0;34m,\u001b[0m \u001b[0;34m'encoding'\u001b[0m\u001b[0;34m,\u001b[0m \u001b[0;34m'latin1'\u001b[0m\u001b[0;34m)\u001b[0m\u001b[0;34m\u001b[0m\u001b[0;34m\u001b[0m\u001b[0m\n\u001b[1;32m    963\u001b[0m             \u001b[0mfh\u001b[0m \u001b[0;34m=\u001b[0m \u001b[0miter\u001b[0m\u001b[0;34m(\u001b[0m\u001b[0mfh\u001b[0m\u001b[0;34m)\u001b[0m\u001b[0;34m\u001b[0m\u001b[0;34m\u001b[0m\u001b[0m\n",
      "\u001b[0;32m~/anaconda3/lib/python3.8/site-packages/numpy/lib/_datasource.py\u001b[0m in \u001b[0;36mopen\u001b[0;34m(path, mode, destpath, encoding, newline)\u001b[0m\n\u001b[1;32m    193\u001b[0m \u001b[0;34m\u001b[0m\u001b[0m\n\u001b[1;32m    194\u001b[0m     \u001b[0mds\u001b[0m \u001b[0;34m=\u001b[0m \u001b[0mDataSource\u001b[0m\u001b[0;34m(\u001b[0m\u001b[0mdestpath\u001b[0m\u001b[0;34m)\u001b[0m\u001b[0;34m\u001b[0m\u001b[0;34m\u001b[0m\u001b[0m\n\u001b[0;32m--> 195\u001b[0;31m     \u001b[0;32mreturn\u001b[0m \u001b[0mds\u001b[0m\u001b[0;34m.\u001b[0m\u001b[0mopen\u001b[0m\u001b[0;34m(\u001b[0m\u001b[0mpath\u001b[0m\u001b[0;34m,\u001b[0m \u001b[0mmode\u001b[0m\u001b[0;34m,\u001b[0m \u001b[0mencoding\u001b[0m\u001b[0;34m=\u001b[0m\u001b[0mencoding\u001b[0m\u001b[0;34m,\u001b[0m \u001b[0mnewline\u001b[0m\u001b[0;34m=\u001b[0m\u001b[0mnewline\u001b[0m\u001b[0;34m)\u001b[0m\u001b[0;34m\u001b[0m\u001b[0;34m\u001b[0m\u001b[0m\n\u001b[0m\u001b[1;32m    196\u001b[0m \u001b[0;34m\u001b[0m\u001b[0m\n\u001b[1;32m    197\u001b[0m \u001b[0;34m\u001b[0m\u001b[0m\n",
      "\u001b[0;32m~/anaconda3/lib/python3.8/site-packages/numpy/lib/_datasource.py\u001b[0m in \u001b[0;36mopen\u001b[0;34m(self, path, mode, encoding, newline)\u001b[0m\n\u001b[1;32m    533\u001b[0m                                       encoding=encoding, newline=newline)\n\u001b[1;32m    534\u001b[0m         \u001b[0;32melse\u001b[0m\u001b[0;34m:\u001b[0m\u001b[0;34m\u001b[0m\u001b[0;34m\u001b[0m\u001b[0m\n\u001b[0;32m--> 535\u001b[0;31m             \u001b[0;32mraise\u001b[0m \u001b[0mIOError\u001b[0m\u001b[0;34m(\u001b[0m\u001b[0;34m\"%s not found.\"\u001b[0m \u001b[0;34m%\u001b[0m \u001b[0mpath\u001b[0m\u001b[0;34m)\u001b[0m\u001b[0;34m\u001b[0m\u001b[0;34m\u001b[0m\u001b[0m\n\u001b[0m\u001b[1;32m    536\u001b[0m \u001b[0;34m\u001b[0m\u001b[0m\n\u001b[1;32m    537\u001b[0m \u001b[0;34m\u001b[0m\u001b[0m\n",
      "\u001b[0;31mOSError\u001b[0m: ~/Final Model/cox_ph/output/empirical_coverage_alg_1_10_cox_ph_rr_nl_nph_0.6.txt not found."
     ]
    }
   ],
   "source": [
    "base_algorithms = ['cox_ph','cox_cc']\n",
    "algorithms = ['alg_1_','alg_2_']\n",
    "datasets = ['rr_nl_nph_','metebric_','support_']\n",
    "alphas = [0.6,0.7,0.8,0.9,0.95]\n",
    "for alpha in alphas:\n",
    "    for ds in datasets:\n",
    "        for ba in base_algorithms:\n",
    "            for a in algorithms:\n",
    "                cover_path = '~/Final Model/'+ba+'/output/'+'empirical_coverage_'+a+'10_'+ba+'_'+ds+str(alpha)+'.txt'\n",
    "                interval_path = '~/Final Model/'+ba+'/output/'+'interval_length_'+a+'10_'+ba+'_'+ds+str(alpha)+'.txt'\n",
    "                coverage = np.loadtxt(cover_path)\n",
    "                interval = np.loadtxt(interval_path)\n",
    "                temp = pd.DataFrame({'Algorithm':[ba+a]*len(coverage),\n",
    "                                     'Dataset':[ds]*len(coverage),'alpha':[alpha]*len(coverage),\n",
    "                                     'Coverage':coverage,'Length':interval})\n",
    "                data = pd.concat([data,temp])"
   ]
  },
  {
   "cell_type": "code",
   "execution_count": null,
   "metadata": {},
   "outputs": [],
   "source": []
  }
 ],
 "metadata": {
  "kernelspec": {
   "display_name": "Python 3",
   "language": "python",
   "name": "python3"
  },
  "language_info": {
   "codemirror_mode": {
    "name": "ipython",
    "version": 3
   },
   "file_extension": ".py",
   "mimetype": "text/x-python",
   "name": "python",
   "nbconvert_exporter": "python",
   "pygments_lexer": "ipython3",
   "version": "3.8.5"
  }
 },
 "nbformat": 4,
 "nbformat_minor": 4
}
