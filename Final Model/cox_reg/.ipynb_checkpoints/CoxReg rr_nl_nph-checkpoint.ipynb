{
 "cells": [
  {
   "cell_type": "code",
   "execution_count": null,
   "metadata": {},
   "outputs": [],
   "source": [
    "import numpy as np\n",
    "import pandas as pd\n",
    "\n",
    "from generate_data import load_data\n",
    "import lifelines\n",
    "from lifelines import CoxPHFitter\n",
    "\n",
    "data = 'rr_nl_nph'\n",
    "df = load_data('~/Research/Cox/data/rr_nl_nph.pkl')\n",
    "\n",
    "time = [min(df['duration'])+i*0.01 for i in range(int((max(df['duration'])-min(df['duration']))/0.01))]\n",
    "\n",
    "train_frac = 0.8\n",
    "alpha = 0.95\n",
    "epochs = 100\n",
    "coverage = []\n",
    "for epoch in range(epochs):\n",
    "      rng = np.random.RandomState(epoch)\n",
    "      shuffle_idx = rng.permutation(range(len(df)))\n",
    "      train_idx = shuffle_idx[:int(train_frac*len(df))]\n",
    "      test_idx = shuffle_idx[int(train_frac*len(df)):]\n",
    "      df_train = df.iloc[train_idx,:]\n",
    "      df_test = df.iloc[test_idx,:]\n",
    "      df_train = df_train.drop(columns=['duration_true'])\n",
    "      duration_true = df_test['duration_true']\n",
    "      df_test = df_test.drop(columns=['duration_true'])\n",
    "      cph = CoxPHFitter()\n",
    "      cph.fit(df_train,duration_col = 'duration',event_col = 'event')\n",
    "\n",
    "      surv = cph.predict_survival_function(df_test.iloc[:,:3],times=time)\n",
    "      surv_ = (surv<=1-alpha).to_numpy(dtype='int8')\n",
    "      index = np.array(surv.index)\n",
    "      multiply_surv = np.transpose(surv_)*index\n",
    "      multiply_surv_ = np.where(multiply_surv==0,np.max(index),multiply_surv)\n",
    "\n",
    "      t_predict = multiply_surv_.min(axis = 1)\n",
    "      diff_predict_true = np.subtract(t_predict,np.array(duration_true))\n",
    "\n",
    "      cover = sum(diff_predict_true>=0)/len(t_predict)\n",
    "      \n",
    "      coverage.append(cover)\n",
    "      print('[%d]\\t%.3f'%(epoch,cover))\n",
    "\n",
    "print('Total Coverage Statistics:\\t [Mean]%.3f\\t[Std.]%.3f\\t[Max]%.3f\\t[Min]%.3f'%(np.mean(coverage),np.std(coverage),np.max(coverage),np.min(coverage)))\n",
    "\n",
    "np.savetxt('./data/cox_reg_coverage_'+data+'_'+str(epochs)+str(alpha)+'.txt',np.array(coverage))\n",
    "    np.savetxt('./output/cox_reg_interval_'+data+'_'+str(epochs)+str(alpha)+'.txt',np.array(interval_len))"
   ]
  }
 ],
 "metadata": {
  "kernelspec": {
   "display_name": "Python 3",
   "language": "python",
   "name": "python3"
  },
  "language_info": {
   "codemirror_mode": {
    "name": "ipython",
    "version": 3
   },
   "file_extension": ".py",
   "mimetype": "text/x-python",
   "name": "python",
   "nbconvert_exporter": "python",
   "pygments_lexer": "ipython3",
   "version": "3.8.5"
  }
 },
 "nbformat": 4,
 "nbformat_minor": 4
}
